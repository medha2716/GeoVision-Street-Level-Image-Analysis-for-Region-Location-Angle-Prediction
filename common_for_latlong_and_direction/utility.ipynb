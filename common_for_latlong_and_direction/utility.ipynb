{
  "nbformat": 4,
  "nbformat_minor": 0,
  "metadata": {
    "colab": {
      "provenance": []
    },
    "kernelspec": {
      "name": "python3",
      "display_name": "Python 3"
    },
    "language_info": {
      "name": "python"
    }
  },
  "cells": [
    {
      "cell_type": "markdown",
      "source": [
        "## making lat long integers"
      ],
      "metadata": {
        "id": "XnkKqFxsteqG"
      }
    },
    {
      "cell_type": "code",
      "source": [
        "\n",
        "import pandas as pd\n",
        "import numpy as np\n",
        "\n",
        "try:\n",
        "    df = pd.read_csv('2022101034_1_latlong.csv')\n",
        "except FileNotFoundError:\n",
        "    print(\"Error: '2022101034_1_latlong.csv' not found. Please upload the file or provide the correct path.\")\n",
        "    exit()\n",
        "\n",
        "\n",
        "# Convert to the nearest integer\n",
        "df['Latitude'] = np.round(df['Latitude']).astype(int)\n",
        "df['Longitude'] = np.round(df['Longitude']).astype(int)\n",
        "\n",
        "df.to_csv('2022101034_2.csv', index=False)\n"
      ],
      "metadata": {
        "id": "0fEu0jixV2dc"
      },
      "execution_count": null,
      "outputs": []
    },
    {
      "cell_type": "markdown",
      "source": [
        "## making angles integers"
      ],
      "metadata": {
        "id": "MGS-7p8ntkvL"
      }
    },
    {
      "cell_type": "code",
      "source": [
        "import pandas as pd\n",
        "import numpy as np\n",
        "\n",
        "try:\n",
        "    df = pd.read_csv('2022101034_1_angle.csv')\n",
        "except FileNotFoundError:\n",
        "    print(\"Error: '2022101034_1_angle.csv' not found. Please upload the file or provide the correct path.\")\n",
        "    exit()\n",
        "\n",
        "\n",
        "# Convert to the nearest integer\n",
        "df['angle'] = np.round(df['angle']).astype(int)\n",
        "# df['Longitude'] = np.round(df['Longitude']).astype(int)\n",
        "\n",
        "df.to_csv('2022101034_2.csv', index=False)"
      ],
      "metadata": {
        "id": "btWdhuviWsLB"
      },
      "execution_count": null,
      "outputs": []
    },
    {
      "cell_type": "markdown",
      "source": [
        "## combining test and val region predictions"
      ],
      "metadata": {
        "id": "dahnPcfttoku"
      }
    },
    {
      "cell_type": "code",
      "source": [
        "import pandas as pd\n",
        "import os\n",
        "\n",
        "# Define dummy paths (replace with actual paths when using)\n",
        "file1_path = \"/content/2022101034_1_val.csv\"\n",
        "file2_path = \"/content/2022101034_1_test.csv\"\n",
        "output_path = \"2022101034_1.csv\"\n",
        "\n",
        "def combine_csv_files():\n",
        "    try:\n",
        "        # Read the two CSV files\n",
        "        print(\"Reading CSV files...\")\n",
        "        df1 = pd.read_csv(file1_path)\n",
        "        df2 = pd.read_csv(file2_path)\n",
        "\n",
        "        print(f\"File 1 has {len(df1)} rows\")\n",
        "        print(f\"File 2 has {len(df2)} rows\")\n",
        "\n",
        "        # Reset the index for file 1 starting from 0\n",
        "        df1 = df1.reset_index(drop=True)\n",
        "\n",
        "        # Reset index for file 2 to start from where file 1 ends\n",
        "        df2 = df2.reset_index(drop=True)\n",
        "        df2.index = df2.index + len(df1)\n",
        "\n",
        "        # Combine the dataframes\n",
        "        combined_df = pd.concat([df1, df2], ignore_index=False)\n",
        "\n",
        "        # Create a new dataframe with 'id' and 'angle' columns\n",
        "        output_df = pd.DataFrame({\n",
        "            'id': combined_df.index,\n",
        "            'angle': combined_df['angle']\n",
        "        })\n",
        "\n",
        "        # Save the output to CSV\n",
        "        output_df.to_csv(output_path, index=False)\n",
        "\n",
        "        # Check if the last index is 737\n",
        "        last_index = output_df['id'].max()\n",
        "        print(f\"Last index is: {last_index}\")\n",
        "        print(f\"Is last index 737? {last_index == 737}\")\n",
        "\n",
        "        print(f\"Output saved to {output_path}\")\n",
        "        return output_df\n",
        "\n",
        "    except Exception as e:\n",
        "        print(f\"Error: {e}\")\n",
        "        return None\n",
        "\n",
        "# Execute the function\n",
        "if __name__ == \"__main__\":\n",
        "    combined_data = combine_csv_files()\n",
        "\n",
        "    # Display a sample of the combined data\n",
        "    if combined_data is not None:\n",
        "        print(\"\\nSample of combined data:\")\n",
        "        print(combined_data.head())"
      ],
      "metadata": {
        "colab": {
          "base_uri": "https://localhost:8080/"
        },
        "id": "G5TBgwK0R3Yj",
        "outputId": "82fdca74-13f3-4ebb-8852-3b9c3f66116d"
      },
      "execution_count": null,
      "outputs": [
        {
          "output_type": "stream",
          "name": "stdout",
          "text": [
            "Reading CSV files...\n",
            "File 1 has 369 rows\n",
            "File 2 has 369 rows\n",
            "Last index is: 737\n",
            "Is last index 737? True\n",
            "Output saved to 2022101034_1.csv\n",
            "\n",
            "Sample of combined data:\n",
            "   id      angle\n",
            "0   0  317.26358\n",
            "1   1   88.97099\n",
            "2   2  166.41476\n",
            "3   3  302.74220\n",
            "4   4  317.45264\n"
          ]
        }
      ]
    },
    {
      "cell_type": "markdown",
      "source": [
        "## combining test and val lat-long predictions"
      ],
      "metadata": {
        "id": "1RzpFF2BtyrW"
      }
    },
    {
      "cell_type": "code",
      "source": [
        "\n",
        "\n",
        "import pandas as pd\n",
        "import os\n",
        "\n",
        "# Define dummy paths (replace with actual paths when using)\n",
        "file1_path = \"/content/predictions_val_latlong.csv\"\n",
        "file2_path = \"/content/predictions_test_latlong.csv\"\n",
        "output_path = \"2022101034_1.csv\"\n",
        "\n",
        "def combine_csv_files():\n",
        "    try:\n",
        "        # Read the two CSV files\n",
        "        print(\"Reading CSV files...\")\n",
        "        df1 = pd.read_csv(file1_path)\n",
        "        df2 = pd.read_csv(file2_path)\n",
        "\n",
        "        print(f\"File 1 has {len(df1)} rows\")\n",
        "        print(f\"File 2 has {len(df2)} rows\")\n",
        "\n",
        "        # Reset the index for file 1 starting from 0\n",
        "        df1 = df1.reset_index(drop=True)\n",
        "\n",
        "        # Reset index for file 2 to start from where file 1 ends\n",
        "        df2 = df2.reset_index(drop=True)\n",
        "        df2.index = df2.index + len(df1)\n",
        "\n",
        "        # Combine the dataframes\n",
        "        combined_df = pd.concat([df1, df2], ignore_index=False)\n",
        "\n",
        "        # Create a new dataframe with 'id' and 'Latitude' columns\n",
        "        output_df = pd.DataFrame({\n",
        "            'id': combined_df.index,\n",
        "            'Latitude': combined_df['Latitude'],\n",
        "            'Longitude': combined_df['Longitude']\n",
        "        })\n",
        "\n",
        "        # Save the output to CSV\n",
        "        output_df.to_csv(output_path, index=False)\n",
        "\n",
        "        # Check if the last index is 737\n",
        "        last_index = output_df['id'].max()\n",
        "        print(f\"Last index is: {last_index}\")\n",
        "        print(f\"Is last index 737? {last_index == 737}\")\n",
        "\n",
        "        print(f\"Output saved to {output_path}\")\n",
        "        return output_df\n",
        "\n",
        "    except Exception as e:\n",
        "        print(f\"Error: {e}\")\n",
        "        return None\n",
        "\n",
        "# Execute the function\n",
        "if __name__ == \"__main__\":\n",
        "    combined_data = combine_csv_files()\n",
        "\n",
        "    # Display a sample of the combined data\n",
        "    if combined_data is not None:\n",
        "        print(\"\\nSample of combined data:\")\n",
        "        print(combined_data.head())"
      ],
      "metadata": {
        "colab": {
          "base_uri": "https://localhost:8080/"
        },
        "id": "xnMEkMV6fgMr",
        "outputId": "fff257b4-88a0-4972-e3f0-dacda4f4af17"
      },
      "execution_count": null,
      "outputs": [
        {
          "output_type": "stream",
          "name": "stdout",
          "text": [
            "Reading CSV files...\n",
            "File 1 has 369 rows\n",
            "File 2 has 369 rows\n",
            "Last index is: 737\n",
            "Is last index 737? True\n",
            "Output saved to 2022101034_1.csv\n",
            "\n",
            "Sample of combined data:\n",
            "   id       Latitude      Longitude\n",
            "0   0  219761.391479  144707.781250\n",
            "1   1  220050.341553  144313.991943\n",
            "2   2  220120.147705  144257.131592\n",
            "3   3  220176.618164  142220.613281\n",
            "4   4  220295.520508  142339.306396\n"
          ]
        }
      ]
    },
    {
      "cell_type": "markdown",
      "source": [
        "## combining region predictions (test+val)"
      ],
      "metadata": {
        "id": "WKVP7STpt7Y6"
      }
    },
    {
      "cell_type": "code",
      "source": [
        "\n",
        "import pandas as pd\n",
        "import os\n",
        "\n",
        "# Define dummy paths (replace with actual paths when using)\n",
        "file1_path = \"/content/predicted_regions_val.csv\"\n",
        "file2_path = \"/content/predicted_regions_test.csv\"\n",
        "output_path = \"2022101034_1.csv\"\n",
        "\n",
        "def combine_csv_files():\n",
        "    try:\n",
        "        # Read the two CSV files\n",
        "        print(\"Reading CSV files...\")\n",
        "        df1 = pd.read_csv(file1_path)\n",
        "        df2 = pd.read_csv(file2_path)\n",
        "\n",
        "        print(f\"File 1 has {len(df1)} rows\")\n",
        "        print(f\"File 2 has {len(df2)} rows\")\n",
        "\n",
        "        # Reset the index for file 1 starting from 0\n",
        "        df1 = df1.reset_index(drop=True)\n",
        "\n",
        "        # Reset index for file 2 to start from where file 1 ends\n",
        "        df2 = df2.reset_index(drop=True)\n",
        "        df2.index = df2.index + len(df1)\n",
        "\n",
        "        # Combine the dataframes\n",
        "        combined_df = pd.concat([df1, df2], ignore_index=False)\n",
        "\n",
        "        # Create a new dataframe with 'id' and 'Region_ID' columns\n",
        "        output_df = pd.DataFrame({\n",
        "            'id': combined_df.index,\n",
        "            'Region_ID': combined_df['Region_ID']\n",
        "        })\n",
        "\n",
        "        # Save the output to CSV\n",
        "        output_df.to_csv(output_path, index=False)\n",
        "\n",
        "        # Check if the last index is 737\n",
        "        last_index = output_df['id'].max()\n",
        "        print(f\"Last index is: {last_index}\")\n",
        "        print(f\"Is last index 737? {last_index == 737}\")\n",
        "\n",
        "        print(f\"Output saved to {output_path}\")\n",
        "        return output_df\n",
        "\n",
        "    except Exception as e:\n",
        "        print(f\"Error: {e}\")\n",
        "        return None\n",
        "\n",
        "# Execute the function\n",
        "if __name__ == \"__main__\":\n",
        "    combined_data = combine_csv_files()\n",
        "\n",
        "    # Display a sample of the combined data\n",
        "    if combined_data is not None:\n",
        "        print(\"\\nSample of combined data:\")\n",
        "        print(combined_data.head())"
      ],
      "metadata": {
        "id": "7yJjeLvdbPmE"
      },
      "execution_count": null,
      "outputs": []
    }
  ]
}