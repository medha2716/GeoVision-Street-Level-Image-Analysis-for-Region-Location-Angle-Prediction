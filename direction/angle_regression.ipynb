{
 "cells": [
  {
   "cell_type": "code",
   "execution_count": 1,
   "id": "87776e41",
   "metadata": {
    "_cell_guid": "b1076dfc-b9ad-4769-8c92-a6c4dae69d19",
    "_uuid": "8f2839f25d086af736a60e9eeb907d3b93b6e0e5",
    "execution": {
     "iopub.execute_input": "2025-05-03T14:13:32.476992Z",
     "iopub.status.busy": "2025-05-03T14:13:32.476734Z",
     "iopub.status.idle": "2025-05-03T15:20:36.813798Z",
     "shell.execute_reply": "2025-05-03T15:20:36.812855Z"
    },
    "papermill": {
     "duration": 4024.341979,
     "end_time": "2025-05-03T15:20:36.815224",
     "exception": false,
     "start_time": "2025-05-03T14:13:32.473245",
     "status": "completed"
    },
    "tags": []
   },
   "outputs": [
    {
     "name": "stdout",
     "output_type": "stream",
     "text": [
      "Number of unique regions: 15\n",
      "Using device: cuda\n"
     ]
    },
    {
     "name": "stderr",
     "output_type": "stream",
     "text": [
      "/usr/local/lib/python3.11/dist-packages/torchvision/models/_utils.py:208: UserWarning: The parameter 'pretrained' is deprecated since 0.13 and may be removed in the future, please use 'weights' instead.\n",
      "  warnings.warn(\n",
      "/usr/local/lib/python3.11/dist-packages/torchvision/models/_utils.py:223: UserWarning: Arguments other than a weight enum or `None` for 'weights' are deprecated since 0.13 and may be removed in the future. The current behavior is equivalent to passing `weights=EfficientNet_B0_Weights.IMAGENET1K_V1`. You can also use `weights=EfficientNet_B0_Weights.DEFAULT` to get the most up-to-date weights.\n",
      "  warnings.warn(msg)\n",
      "Downloading: \"https://download.pytorch.org/models/efficientnet_b0_rwightman-7f5810bc.pth\" to /root/.cache/torch/hub/checkpoints/efficientnet_b0_rwightman-7f5810bc.pth\n",
      "100%|██████████| 20.5M/20.5M [00:00<00:00, 142MB/s] \n",
      "Epoch 1 Training: 100%|██████████| 205/205 [00:52<00:00,  3.87it/s]\n",
      "Epoch 1 Validation: 100%|██████████| 12/12 [00:02<00:00,  5.39it/s]\n"
     ]
    },
    {
     "name": "stdout",
     "output_type": "stream",
     "text": [
      "Epoch 1, Train Loss: 0.8037, Val MAAE: 78.3973\n",
      "✅ Best model saved with Val MAAE: 78.3973\n"
     ]
    },
    {
     "name": "stderr",
     "output_type": "stream",
     "text": [
      "Epoch 2 Training: 100%|██████████| 205/205 [00:49<00:00,  4.12it/s]\n",
      "Epoch 2 Validation: 100%|██████████| 12/12 [00:01<00:00,  7.54it/s]\n"
     ]
    },
    {
     "name": "stdout",
     "output_type": "stream",
     "text": [
      "Epoch 2, Train Loss: 0.7046, Val MAAE: 68.8643\n",
      "✅ Best model saved with Val MAAE: 68.8643\n"
     ]
    },
    {
     "name": "stderr",
     "output_type": "stream",
     "text": [
      "Epoch 3 Training: 100%|██████████| 205/205 [00:48<00:00,  4.27it/s]\n",
      "Epoch 3 Validation: 100%|██████████| 12/12 [00:01<00:00,  6.30it/s]\n"
     ]
    },
    {
     "name": "stdout",
     "output_type": "stream",
     "text": [
      "Epoch 3, Train Loss: 0.5839, Val MAAE: 61.6325\n",
      "✅ Best model saved with Val MAAE: 61.6325\n"
     ]
    },
    {
     "name": "stderr",
     "output_type": "stream",
     "text": [
      "Epoch 4 Training: 100%|██████████| 205/205 [00:48<00:00,  4.25it/s]\n",
      "Epoch 4 Validation: 100%|██████████| 12/12 [00:01<00:00,  7.53it/s]\n"
     ]
    },
    {
     "name": "stdout",
     "output_type": "stream",
     "text": [
      "Epoch 4, Train Loss: 0.4843, Val MAAE: 57.3658\n",
      "✅ Best model saved with Val MAAE: 57.3658\n"
     ]
    },
    {
     "name": "stderr",
     "output_type": "stream",
     "text": [
      "Epoch 5 Training: 100%|██████████| 205/205 [00:48<00:00,  4.22it/s]\n",
      "Epoch 5 Validation: 100%|██████████| 12/12 [00:01<00:00,  7.35it/s]\n"
     ]
    },
    {
     "name": "stdout",
     "output_type": "stream",
     "text": [
      "Epoch 5, Train Loss: 0.4048, Val MAAE: 52.0493\n",
      "✅ Best model saved with Val MAAE: 52.0493\n"
     ]
    },
    {
     "name": "stderr",
     "output_type": "stream",
     "text": [
      "Epoch 6 Training: 100%|██████████| 205/205 [00:47<00:00,  4.28it/s]\n",
      "Epoch 6 Validation: 100%|██████████| 12/12 [00:01<00:00,  7.73it/s]\n"
     ]
    },
    {
     "name": "stdout",
     "output_type": "stream",
     "text": [
      "Epoch 6, Train Loss: 0.3600, Val MAAE: 52.1100\n",
      "No improvement for 1 epochs...\n"
     ]
    },
    {
     "name": "stderr",
     "output_type": "stream",
     "text": [
      "Epoch 7 Training: 100%|██████████| 205/205 [00:48<00:00,  4.21it/s]\n",
      "Epoch 7 Validation: 100%|██████████| 12/12 [00:01<00:00,  7.37it/s]\n"
     ]
    },
    {
     "name": "stdout",
     "output_type": "stream",
     "text": [
      "Epoch 7, Train Loss: 0.3218, Val MAAE: 47.9230\n",
      "✅ Best model saved with Val MAAE: 47.9230\n"
     ]
    },
    {
     "name": "stderr",
     "output_type": "stream",
     "text": [
      "Epoch 8 Training: 100%|██████████| 205/205 [00:46<00:00,  4.37it/s]\n",
      "Epoch 8 Validation: 100%|██████████| 12/12 [00:01<00:00,  7.45it/s]\n"
     ]
    },
    {
     "name": "stdout",
     "output_type": "stream",
     "text": [
      "Epoch 8, Train Loss: 0.2826, Val MAAE: 47.7870\n",
      "✅ Best model saved with Val MAAE: 47.7870\n"
     ]
    },
    {
     "name": "stderr",
     "output_type": "stream",
     "text": [
      "Epoch 9 Training: 100%|██████████| 205/205 [00:47<00:00,  4.30it/s]\n",
      "Epoch 9 Validation: 100%|██████████| 12/12 [00:01<00:00,  7.57it/s]\n"
     ]
    },
    {
     "name": "stdout",
     "output_type": "stream",
     "text": [
      "Epoch 9, Train Loss: 0.2451, Val MAAE: 44.5066\n",
      "✅ Best model saved with Val MAAE: 44.5066\n"
     ]
    },
    {
     "name": "stderr",
     "output_type": "stream",
     "text": [
      "Epoch 10 Training: 100%|██████████| 205/205 [00:48<00:00,  4.26it/s]\n",
      "Epoch 10 Validation: 100%|██████████| 12/12 [00:01<00:00,  7.46it/s]\n"
     ]
    },
    {
     "name": "stdout",
     "output_type": "stream",
     "text": [
      "Epoch 10, Train Loss: 0.2176, Val MAAE: 35.5611\n",
      "✅ Best model saved with Val MAAE: 35.5611\n"
     ]
    },
    {
     "name": "stderr",
     "output_type": "stream",
     "text": [
      "Epoch 11 Training: 100%|██████████| 205/205 [00:48<00:00,  4.24it/s]\n",
      "Epoch 11 Validation: 100%|██████████| 12/12 [00:01<00:00,  7.49it/s]\n"
     ]
    },
    {
     "name": "stdout",
     "output_type": "stream",
     "text": [
      "Epoch 11, Train Loss: 0.1988, Val MAAE: 36.1866\n",
      "No improvement for 1 epochs...\n"
     ]
    },
    {
     "name": "stderr",
     "output_type": "stream",
     "text": [
      "Epoch 12 Training: 100%|██████████| 205/205 [00:47<00:00,  4.33it/s]\n",
      "Epoch 12 Validation: 100%|██████████| 12/12 [00:01<00:00,  7.53it/s]\n"
     ]
    },
    {
     "name": "stdout",
     "output_type": "stream",
     "text": [
      "Epoch 12, Train Loss: 0.1718, Val MAAE: 36.9476\n",
      "No improvement for 2 epochs...\n"
     ]
    },
    {
     "name": "stderr",
     "output_type": "stream",
     "text": [
      "Epoch 13 Training: 100%|██████████| 205/205 [00:48<00:00,  4.21it/s]\n",
      "Epoch 13 Validation: 100%|██████████| 12/12 [00:01<00:00,  7.41it/s]\n"
     ]
    },
    {
     "name": "stdout",
     "output_type": "stream",
     "text": [
      "Epoch 13, Train Loss: 0.1651, Val MAAE: 34.0948\n",
      "✅ Best model saved with Val MAAE: 34.0948\n"
     ]
    },
    {
     "name": "stderr",
     "output_type": "stream",
     "text": [
      "Epoch 14 Training: 100%|██████████| 205/205 [00:48<00:00,  4.27it/s]\n",
      "Epoch 14 Validation: 100%|██████████| 12/12 [00:01<00:00,  7.32it/s]\n"
     ]
    },
    {
     "name": "stdout",
     "output_type": "stream",
     "text": [
      "Epoch 14, Train Loss: 0.1421, Val MAAE: 33.4438\n",
      "✅ Best model saved with Val MAAE: 33.4438\n"
     ]
    },
    {
     "name": "stderr",
     "output_type": "stream",
     "text": [
      "Epoch 15 Training: 100%|██████████| 205/205 [00:48<00:00,  4.25it/s]\n",
      "Epoch 15 Validation: 100%|██████████| 12/12 [00:01<00:00,  7.59it/s]\n"
     ]
    },
    {
     "name": "stdout",
     "output_type": "stream",
     "text": [
      "Epoch 15, Train Loss: 0.1361, Val MAAE: 34.9682\n",
      "No improvement for 1 epochs...\n"
     ]
    },
    {
     "name": "stderr",
     "output_type": "stream",
     "text": [
      "Epoch 16 Training: 100%|██████████| 205/205 [00:47<00:00,  4.30it/s]\n",
      "Epoch 16 Validation: 100%|██████████| 12/12 [00:01<00:00,  7.40it/s]\n"
     ]
    },
    {
     "name": "stdout",
     "output_type": "stream",
     "text": [
      "Epoch 16, Train Loss: 0.1301, Val MAAE: 30.9168\n",
      "✅ Best model saved with Val MAAE: 30.9168\n"
     ]
    },
    {
     "name": "stderr",
     "output_type": "stream",
     "text": [
      "Epoch 17 Training: 100%|██████████| 205/205 [00:48<00:00,  4.21it/s]\n",
      "Epoch 17 Validation: 100%|██████████| 12/12 [00:01<00:00,  7.32it/s]\n"
     ]
    },
    {
     "name": "stdout",
     "output_type": "stream",
     "text": [
      "Epoch 17, Train Loss: 0.1156, Val MAAE: 31.2853\n",
      "No improvement for 1 epochs...\n"
     ]
    },
    {
     "name": "stderr",
     "output_type": "stream",
     "text": [
      "Epoch 18 Training: 100%|██████████| 205/205 [00:48<00:00,  4.25it/s]\n",
      "Epoch 18 Validation: 100%|██████████| 12/12 [00:01<00:00,  6.95it/s]\n"
     ]
    },
    {
     "name": "stdout",
     "output_type": "stream",
     "text": [
      "Epoch 18, Train Loss: 0.1009, Val MAAE: 30.4967\n",
      "✅ Best model saved with Val MAAE: 30.4967\n"
     ]
    },
    {
     "name": "stderr",
     "output_type": "stream",
     "text": [
      "Epoch 19 Training: 100%|██████████| 205/205 [00:48<00:00,  4.22it/s]\n",
      "Epoch 19 Validation: 100%|██████████| 12/12 [00:01<00:00,  7.78it/s]\n"
     ]
    },
    {
     "name": "stdout",
     "output_type": "stream",
     "text": [
      "Epoch 19, Train Loss: 0.0983, Val MAAE: 30.4869\n",
      "✅ Best model saved with Val MAAE: 30.4869\n"
     ]
    },
    {
     "name": "stderr",
     "output_type": "stream",
     "text": [
      "Epoch 20 Training: 100%|██████████| 205/205 [00:48<00:00,  4.25it/s]\n",
      "Epoch 20 Validation: 100%|██████████| 12/12 [00:01<00:00,  7.35it/s]\n"
     ]
    },
    {
     "name": "stdout",
     "output_type": "stream",
     "text": [
      "Epoch 20, Train Loss: 0.0972, Val MAAE: 31.2770\n",
      "No improvement for 1 epochs...\n"
     ]
    },
    {
     "name": "stderr",
     "output_type": "stream",
     "text": [
      "Epoch 21 Training: 100%|██████████| 205/205 [00:47<00:00,  4.27it/s]\n",
      "Epoch 21 Validation: 100%|██████████| 12/12 [00:01<00:00,  7.56it/s]\n"
     ]
    },
    {
     "name": "stdout",
     "output_type": "stream",
     "text": [
      "Epoch 21, Train Loss: 0.0959, Val MAAE: 30.6256\n",
      "No improvement for 2 epochs...\n"
     ]
    },
    {
     "name": "stderr",
     "output_type": "stream",
     "text": [
      "Epoch 22 Training: 100%|██████████| 205/205 [00:48<00:00,  4.19it/s]\n",
      "Epoch 22 Validation: 100%|██████████| 12/12 [00:01<00:00,  7.41it/s]\n"
     ]
    },
    {
     "name": "stdout",
     "output_type": "stream",
     "text": [
      "Epoch 22, Train Loss: 0.0875, Val MAAE: 30.0531\n",
      "✅ Best model saved with Val MAAE: 30.0531\n"
     ]
    },
    {
     "name": "stderr",
     "output_type": "stream",
     "text": [
      "Epoch 23 Training: 100%|██████████| 205/205 [00:47<00:00,  4.29it/s]\n",
      "Epoch 23 Validation: 100%|██████████| 12/12 [00:01<00:00,  7.62it/s]\n"
     ]
    },
    {
     "name": "stdout",
     "output_type": "stream",
     "text": [
      "Epoch 23, Train Loss: 0.0836, Val MAAE: 29.9377\n",
      "✅ Best model saved with Val MAAE: 29.9377\n"
     ]
    },
    {
     "name": "stderr",
     "output_type": "stream",
     "text": [
      "Epoch 24 Training: 100%|██████████| 205/205 [00:48<00:00,  4.20it/s]\n",
      "Epoch 24 Validation: 100%|██████████| 12/12 [00:01<00:00,  7.54it/s]\n"
     ]
    },
    {
     "name": "stdout",
     "output_type": "stream",
     "text": [
      "Epoch 24, Train Loss: 0.0837, Val MAAE: 28.5327\n",
      "✅ Best model saved with Val MAAE: 28.5327\n"
     ]
    },
    {
     "name": "stderr",
     "output_type": "stream",
     "text": [
      "Epoch 25 Training: 100%|██████████| 205/205 [00:48<00:00,  4.26it/s]\n",
      "Epoch 25 Validation: 100%|██████████| 12/12 [00:01<00:00,  7.44it/s]\n"
     ]
    },
    {
     "name": "stdout",
     "output_type": "stream",
     "text": [
      "Epoch 25, Train Loss: 0.0712, Val MAAE: 30.3669\n",
      "No improvement for 1 epochs...\n"
     ]
    },
    {
     "name": "stderr",
     "output_type": "stream",
     "text": [
      "Epoch 26 Training: 100%|██████████| 205/205 [00:48<00:00,  4.20it/s]\n",
      "Epoch 26 Validation: 100%|██████████| 12/12 [00:01<00:00,  7.48it/s]\n"
     ]
    },
    {
     "name": "stdout",
     "output_type": "stream",
     "text": [
      "Epoch 26, Train Loss: 0.0744, Val MAAE: 30.5807\n",
      "No improvement for 2 epochs...\n"
     ]
    },
    {
     "name": "stderr",
     "output_type": "stream",
     "text": [
      "Epoch 27 Training: 100%|██████████| 205/205 [00:47<00:00,  4.32it/s]\n",
      "Epoch 27 Validation: 100%|██████████| 12/12 [00:01<00:00,  7.45it/s]\n"
     ]
    },
    {
     "name": "stdout",
     "output_type": "stream",
     "text": [
      "Epoch 27, Train Loss: 0.0715, Val MAAE: 30.7109\n",
      "No improvement for 3 epochs...\n"
     ]
    },
    {
     "name": "stderr",
     "output_type": "stream",
     "text": [
      "Epoch 28 Training: 100%|██████████| 205/205 [00:49<00:00,  4.13it/s]\n",
      "Epoch 28 Validation: 100%|██████████| 12/12 [00:01<00:00,  7.57it/s]\n"
     ]
    },
    {
     "name": "stdout",
     "output_type": "stream",
     "text": [
      "Epoch 28, Train Loss: 0.0687, Val MAAE: 27.1672\n",
      "✅ Best model saved with Val MAAE: 27.1672\n"
     ]
    },
    {
     "name": "stderr",
     "output_type": "stream",
     "text": [
      "Epoch 29 Training: 100%|██████████| 205/205 [00:47<00:00,  4.28it/s]\n",
      "Epoch 29 Validation: 100%|██████████| 12/12 [00:01<00:00,  6.27it/s]\n"
     ]
    },
    {
     "name": "stdout",
     "output_type": "stream",
     "text": [
      "Epoch 29, Train Loss: 0.0627, Val MAAE: 28.4614\n",
      "No improvement for 1 epochs...\n"
     ]
    },
    {
     "name": "stderr",
     "output_type": "stream",
     "text": [
      "Epoch 30 Training: 100%|██████████| 205/205 [00:48<00:00,  4.22it/s]\n",
      "Epoch 30 Validation: 100%|██████████| 12/12 [00:01<00:00,  7.44it/s]\n"
     ]
    },
    {
     "name": "stdout",
     "output_type": "stream",
     "text": [
      "Epoch 30, Train Loss: 0.0619, Val MAAE: 27.1944\n",
      "No improvement for 2 epochs...\n"
     ]
    },
    {
     "name": "stderr",
     "output_type": "stream",
     "text": [
      "Epoch 31 Training: 100%|██████████| 205/205 [00:48<00:00,  4.25it/s]\n",
      "Epoch 31 Validation: 100%|██████████| 12/12 [00:01<00:00,  7.43it/s]\n"
     ]
    },
    {
     "name": "stdout",
     "output_type": "stream",
     "text": [
      "Epoch 31, Train Loss: 0.0632, Val MAAE: 29.2684\n",
      "No improvement for 3 epochs...\n"
     ]
    },
    {
     "name": "stderr",
     "output_type": "stream",
     "text": [
      "Epoch 32 Training: 100%|██████████| 205/205 [00:48<00:00,  4.19it/s]\n",
      "Epoch 32 Validation: 100%|██████████| 12/12 [00:01<00:00,  7.37it/s]\n"
     ]
    },
    {
     "name": "stdout",
     "output_type": "stream",
     "text": [
      "Epoch 32, Train Loss: 0.0583, Val MAAE: 28.4564\n",
      "No improvement for 4 epochs...\n"
     ]
    },
    {
     "name": "stderr",
     "output_type": "stream",
     "text": [
      "Epoch 33 Training: 100%|██████████| 205/205 [00:50<00:00,  4.09it/s]\n",
      "Epoch 33 Validation: 100%|██████████| 12/12 [00:01<00:00,  7.55it/s]\n"
     ]
    },
    {
     "name": "stdout",
     "output_type": "stream",
     "text": [
      "Epoch 33, Train Loss: 0.0543, Val MAAE: 28.4141\n",
      "No improvement for 5 epochs...\n"
     ]
    },
    {
     "name": "stderr",
     "output_type": "stream",
     "text": [
      "Epoch 34 Training: 100%|██████████| 205/205 [00:47<00:00,  4.32it/s]\n",
      "Epoch 34 Validation: 100%|██████████| 12/12 [00:01<00:00,  7.57it/s]\n"
     ]
    },
    {
     "name": "stdout",
     "output_type": "stream",
     "text": [
      "Epoch 34, Train Loss: 0.0517, Val MAAE: 28.8035\n",
      "No improvement for 6 epochs...\n"
     ]
    },
    {
     "name": "stderr",
     "output_type": "stream",
     "text": [
      "Epoch 35 Training: 100%|██████████| 205/205 [00:48<00:00,  4.22it/s]\n",
      "Epoch 35 Validation: 100%|██████████| 12/12 [00:01<00:00,  7.40it/s]\n"
     ]
    },
    {
     "name": "stdout",
     "output_type": "stream",
     "text": [
      "Epoch 35, Train Loss: 0.0464, Val MAAE: 28.1623\n",
      "No improvement for 7 epochs...\n"
     ]
    },
    {
     "name": "stderr",
     "output_type": "stream",
     "text": [
      "Epoch 36 Training: 100%|██████████| 205/205 [00:48<00:00,  4.26it/s]\n",
      "Epoch 36 Validation: 100%|██████████| 12/12 [00:01<00:00,  7.45it/s]\n"
     ]
    },
    {
     "name": "stdout",
     "output_type": "stream",
     "text": [
      "Epoch 36, Train Loss: 0.0462, Val MAAE: 27.4192\n",
      "No improvement for 8 epochs...\n"
     ]
    },
    {
     "name": "stderr",
     "output_type": "stream",
     "text": [
      "Epoch 37 Training: 100%|██████████| 205/205 [00:49<00:00,  4.14it/s]\n",
      "Epoch 37 Validation: 100%|██████████| 12/12 [00:01<00:00,  7.69it/s]\n"
     ]
    },
    {
     "name": "stdout",
     "output_type": "stream",
     "text": [
      "Epoch 37, Train Loss: 0.0436, Val MAAE: 28.8758\n",
      "No improvement for 9 epochs...\n"
     ]
    },
    {
     "name": "stderr",
     "output_type": "stream",
     "text": [
      "Epoch 38 Training: 100%|██████████| 205/205 [00:47<00:00,  4.28it/s]\n",
      "Epoch 38 Validation: 100%|██████████| 12/12 [00:01<00:00,  7.43it/s]\n"
     ]
    },
    {
     "name": "stdout",
     "output_type": "stream",
     "text": [
      "Epoch 38, Train Loss: 0.0432, Val MAAE: 28.9296\n",
      "No improvement for 10 epochs...\n"
     ]
    },
    {
     "name": "stderr",
     "output_type": "stream",
     "text": [
      "Epoch 39 Training: 100%|██████████| 205/205 [00:49<00:00,  4.16it/s]\n",
      "Epoch 39 Validation: 100%|██████████| 12/12 [00:01<00:00,  7.47it/s]\n"
     ]
    },
    {
     "name": "stdout",
     "output_type": "stream",
     "text": [
      "Epoch 39, Train Loss: 0.0441, Val MAAE: 27.6087\n",
      "No improvement for 11 epochs...\n"
     ]
    },
    {
     "name": "stderr",
     "output_type": "stream",
     "text": [
      "Epoch 40 Training: 100%|██████████| 205/205 [00:48<00:00,  4.23it/s]\n",
      "Epoch 40 Validation: 100%|██████████| 12/12 [00:01<00:00,  7.65it/s]\n"
     ]
    },
    {
     "name": "stdout",
     "output_type": "stream",
     "text": [
      "Epoch 40, Train Loss: 0.0384, Val MAAE: 27.2460\n",
      "No improvement for 12 epochs...\n"
     ]
    },
    {
     "name": "stderr",
     "output_type": "stream",
     "text": [
      "Epoch 41 Training: 100%|██████████| 205/205 [00:47<00:00,  4.28it/s]\n",
      "Epoch 41 Validation: 100%|██████████| 12/12 [00:01<00:00,  7.47it/s]\n"
     ]
    },
    {
     "name": "stdout",
     "output_type": "stream",
     "text": [
      "Epoch 41, Train Loss: 0.0402, Val MAAE: 27.2885\n",
      "No improvement for 13 epochs...\n"
     ]
    },
    {
     "name": "stderr",
     "output_type": "stream",
     "text": [
      "Epoch 42 Training: 100%|██████████| 205/205 [00:48<00:00,  4.20it/s]\n",
      "Epoch 42 Validation: 100%|██████████| 12/12 [00:01<00:00,  7.40it/s]\n"
     ]
    },
    {
     "name": "stdout",
     "output_type": "stream",
     "text": [
      "Epoch 42, Train Loss: 0.0344, Val MAAE: 26.2310\n",
      "✅ Best model saved with Val MAAE: 26.2310\n"
     ]
    },
    {
     "name": "stderr",
     "output_type": "stream",
     "text": [
      "Epoch 43 Training: 100%|██████████| 205/205 [00:48<00:00,  4.25it/s]\n",
      "Epoch 43 Validation: 100%|██████████| 12/12 [00:01<00:00,  7.23it/s]\n"
     ]
    },
    {
     "name": "stdout",
     "output_type": "stream",
     "text": [
      "Epoch 43, Train Loss: 0.0321, Val MAAE: 27.0865\n",
      "No improvement for 1 epochs...\n"
     ]
    },
    {
     "name": "stderr",
     "output_type": "stream",
     "text": [
      "Epoch 44 Training: 100%|██████████| 205/205 [00:48<00:00,  4.27it/s]\n",
      "Epoch 44 Validation: 100%|██████████| 12/12 [00:01<00:00,  7.41it/s]\n"
     ]
    },
    {
     "name": "stdout",
     "output_type": "stream",
     "text": [
      "Epoch 44, Train Loss: 0.0350, Val MAAE: 26.5523\n",
      "No improvement for 2 epochs...\n"
     ]
    },
    {
     "name": "stderr",
     "output_type": "stream",
     "text": [
      "Epoch 45 Training: 100%|██████████| 205/205 [00:49<00:00,  4.18it/s]\n",
      "Epoch 45 Validation: 100%|██████████| 12/12 [00:01<00:00,  7.48it/s]\n"
     ]
    },
    {
     "name": "stdout",
     "output_type": "stream",
     "text": [
      "Epoch 45, Train Loss: 0.0321, Val MAAE: 26.7575\n",
      "No improvement for 3 epochs...\n"
     ]
    },
    {
     "name": "stderr",
     "output_type": "stream",
     "text": [
      "Epoch 46 Training: 100%|██████████| 205/205 [00:48<00:00,  4.26it/s]\n",
      "Epoch 46 Validation: 100%|██████████| 12/12 [00:01<00:00,  7.37it/s]\n"
     ]
    },
    {
     "name": "stdout",
     "output_type": "stream",
     "text": [
      "Epoch 46, Train Loss: 0.0315, Val MAAE: 27.0216\n",
      "No improvement for 4 epochs...\n"
     ]
    },
    {
     "name": "stderr",
     "output_type": "stream",
     "text": [
      "Epoch 47 Training: 100%|██████████| 205/205 [00:48<00:00,  4.22it/s]\n",
      "Epoch 47 Validation: 100%|██████████| 12/12 [00:01<00:00,  7.48it/s]\n"
     ]
    },
    {
     "name": "stdout",
     "output_type": "stream",
     "text": [
      "Epoch 47, Train Loss: 0.0275, Val MAAE: 26.6492\n",
      "No improvement for 5 epochs...\n"
     ]
    },
    {
     "name": "stderr",
     "output_type": "stream",
     "text": [
      "Epoch 48 Training: 100%|██████████| 205/205 [00:48<00:00,  4.20it/s]\n",
      "Epoch 48 Validation: 100%|██████████| 12/12 [00:01<00:00,  7.52it/s]\n"
     ]
    },
    {
     "name": "stdout",
     "output_type": "stream",
     "text": [
      "Epoch 48, Train Loss: 0.0272, Val MAAE: 26.5682\n",
      "No improvement for 6 epochs...\n"
     ]
    },
    {
     "name": "stderr",
     "output_type": "stream",
     "text": [
      "Epoch 49 Training: 100%|██████████| 205/205 [00:47<00:00,  4.31it/s]\n",
      "Epoch 49 Validation: 100%|██████████| 12/12 [00:01<00:00,  7.37it/s]\n"
     ]
    },
    {
     "name": "stdout",
     "output_type": "stream",
     "text": [
      "Epoch 49, Train Loss: 0.0251, Val MAAE: 28.0785\n",
      "No improvement for 7 epochs...\n"
     ]
    },
    {
     "name": "stderr",
     "output_type": "stream",
     "text": [
      "Epoch 50 Training: 100%|██████████| 205/205 [00:48<00:00,  4.24it/s]\n",
      "Epoch 50 Validation: 100%|██████████| 12/12 [00:01<00:00,  7.40it/s]\n"
     ]
    },
    {
     "name": "stdout",
     "output_type": "stream",
     "text": [
      "Epoch 50, Train Loss: 0.0242, Val MAAE: 27.8300\n",
      "No improvement for 8 epochs...\n"
     ]
    },
    {
     "name": "stderr",
     "output_type": "stream",
     "text": [
      "Epoch 51 Training: 100%|██████████| 205/205 [00:47<00:00,  4.34it/s]\n",
      "Epoch 51 Validation: 100%|██████████| 12/12 [00:01<00:00,  6.76it/s]\n"
     ]
    },
    {
     "name": "stdout",
     "output_type": "stream",
     "text": [
      "Epoch 51, Train Loss: 0.0252, Val MAAE: 26.9490\n",
      "No improvement for 9 epochs...\n"
     ]
    },
    {
     "name": "stderr",
     "output_type": "stream",
     "text": [
      "Epoch 52 Training: 100%|██████████| 205/205 [00:48<00:00,  4.24it/s]\n",
      "Epoch 52 Validation: 100%|██████████| 12/12 [00:01<00:00,  7.73it/s]\n"
     ]
    },
    {
     "name": "stdout",
     "output_type": "stream",
     "text": [
      "Epoch 52, Train Loss: 0.0228, Val MAAE: 27.5942\n",
      "No improvement for 10 epochs...\n"
     ]
    },
    {
     "name": "stderr",
     "output_type": "stream",
     "text": [
      "Epoch 53 Training: 100%|██████████| 205/205 [00:48<00:00,  4.21it/s]\n",
      "Epoch 53 Validation: 100%|██████████| 12/12 [00:01<00:00,  7.61it/s]\n"
     ]
    },
    {
     "name": "stdout",
     "output_type": "stream",
     "text": [
      "Epoch 53, Train Loss: 0.0213, Val MAAE: 25.7550\n",
      "✅ Best model saved with Val MAAE: 25.7550\n"
     ]
    },
    {
     "name": "stderr",
     "output_type": "stream",
     "text": [
      "Epoch 54 Training: 100%|██████████| 205/205 [00:47<00:00,  4.28it/s]\n",
      "Epoch 54 Validation: 100%|██████████| 12/12 [00:01<00:00,  7.39it/s]\n"
     ]
    },
    {
     "name": "stdout",
     "output_type": "stream",
     "text": [
      "Epoch 54, Train Loss: 0.0213, Val MAAE: 25.1289\n",
      "✅ Best model saved with Val MAAE: 25.1289\n"
     ]
    },
    {
     "name": "stderr",
     "output_type": "stream",
     "text": [
      "Epoch 55 Training: 100%|██████████| 205/205 [00:49<00:00,  4.15it/s]\n",
      "Epoch 55 Validation: 100%|██████████| 12/12 [00:01<00:00,  7.41it/s]\n"
     ]
    },
    {
     "name": "stdout",
     "output_type": "stream",
     "text": [
      "Epoch 55, Train Loss: 0.0209, Val MAAE: 25.4216\n",
      "No improvement for 1 epochs...\n"
     ]
    },
    {
     "name": "stderr",
     "output_type": "stream",
     "text": [
      "Epoch 56 Training: 100%|██████████| 205/205 [00:47<00:00,  4.28it/s]\n",
      "Epoch 56 Validation: 100%|██████████| 12/12 [00:01<00:00,  7.62it/s]\n"
     ]
    },
    {
     "name": "stdout",
     "output_type": "stream",
     "text": [
      "Epoch 56, Train Loss: 0.0196, Val MAAE: 26.4045\n",
      "No improvement for 2 epochs...\n"
     ]
    },
    {
     "name": "stderr",
     "output_type": "stream",
     "text": [
      "Epoch 57 Training: 100%|██████████| 205/205 [00:48<00:00,  4.20it/s]\n",
      "Epoch 57 Validation: 100%|██████████| 12/12 [00:01<00:00,  7.56it/s]\n"
     ]
    },
    {
     "name": "stdout",
     "output_type": "stream",
     "text": [
      "Epoch 57, Train Loss: 0.0184, Val MAAE: 25.7017\n",
      "No improvement for 3 epochs...\n"
     ]
    },
    {
     "name": "stderr",
     "output_type": "stream",
     "text": [
      "Epoch 58 Training: 100%|██████████| 205/205 [00:48<00:00,  4.27it/s]\n",
      "Epoch 58 Validation: 100%|██████████| 12/12 [00:01<00:00,  6.90it/s]\n"
     ]
    },
    {
     "name": "stdout",
     "output_type": "stream",
     "text": [
      "Epoch 58, Train Loss: 0.0186, Val MAAE: 25.4915\n",
      "No improvement for 4 epochs...\n"
     ]
    },
    {
     "name": "stderr",
     "output_type": "stream",
     "text": [
      "Epoch 59 Training: 100%|██████████| 205/205 [00:48<00:00,  4.21it/s]\n",
      "Epoch 59 Validation: 100%|██████████| 12/12 [00:01<00:00,  7.42it/s]\n"
     ]
    },
    {
     "name": "stdout",
     "output_type": "stream",
     "text": [
      "Epoch 59, Train Loss: 0.0180, Val MAAE: 26.3564\n",
      "No improvement for 5 epochs...\n"
     ]
    },
    {
     "name": "stderr",
     "output_type": "stream",
     "text": [
      "Epoch 60 Training: 100%|██████████| 205/205 [00:48<00:00,  4.24it/s]\n",
      "Epoch 60 Validation: 100%|██████████| 12/12 [00:01<00:00,  7.13it/s]\n"
     ]
    },
    {
     "name": "stdout",
     "output_type": "stream",
     "text": [
      "Epoch 60, Train Loss: 0.0182, Val MAAE: 25.6484\n",
      "No improvement for 6 epochs...\n"
     ]
    },
    {
     "name": "stderr",
     "output_type": "stream",
     "text": [
      "Epoch 61 Training: 100%|██████████| 205/205 [00:48<00:00,  4.20it/s]\n",
      "Epoch 61 Validation: 100%|██████████| 12/12 [00:01<00:00,  7.67it/s]\n"
     ]
    },
    {
     "name": "stdout",
     "output_type": "stream",
     "text": [
      "Epoch 61, Train Loss: 0.0166, Val MAAE: 25.0796\n",
      "✅ Best model saved with Val MAAE: 25.0796\n"
     ]
    },
    {
     "name": "stderr",
     "output_type": "stream",
     "text": [
      "Epoch 62 Training: 100%|██████████| 205/205 [00:49<00:00,  4.15it/s]\n",
      "Epoch 62 Validation: 100%|██████████| 12/12 [00:01<00:00,  6.42it/s]\n"
     ]
    },
    {
     "name": "stdout",
     "output_type": "stream",
     "text": [
      "Epoch 62, Train Loss: 0.0163, Val MAAE: 24.6093\n",
      "✅ Best model saved with Val MAAE: 24.6093\n"
     ]
    },
    {
     "name": "stderr",
     "output_type": "stream",
     "text": [
      "Epoch 63 Training: 100%|██████████| 205/205 [00:48<00:00,  4.26it/s]\n",
      "Epoch 63 Validation: 100%|██████████| 12/12 [00:01<00:00,  7.46it/s]\n"
     ]
    },
    {
     "name": "stdout",
     "output_type": "stream",
     "text": [
      "Epoch 63, Train Loss: 0.0165, Val MAAE: 25.6996\n",
      "No improvement for 1 epochs...\n"
     ]
    },
    {
     "name": "stderr",
     "output_type": "stream",
     "text": [
      "Epoch 64 Training: 100%|██████████| 205/205 [00:48<00:00,  4.23it/s]\n",
      "Epoch 64 Validation: 100%|██████████| 12/12 [00:01<00:00,  7.55it/s]\n"
     ]
    },
    {
     "name": "stdout",
     "output_type": "stream",
     "text": [
      "Epoch 64, Train Loss: 0.0154, Val MAAE: 24.8740\n",
      "No improvement for 2 epochs...\n"
     ]
    },
    {
     "name": "stderr",
     "output_type": "stream",
     "text": [
      "Epoch 65 Training: 100%|██████████| 205/205 [00:48<00:00,  4.21it/s]\n",
      "Epoch 65 Validation: 100%|██████████| 12/12 [00:01<00:00,  7.62it/s]\n"
     ]
    },
    {
     "name": "stdout",
     "output_type": "stream",
     "text": [
      "Epoch 65, Train Loss: 0.0164, Val MAAE: 26.0595\n",
      "No improvement for 3 epochs...\n"
     ]
    },
    {
     "name": "stderr",
     "output_type": "stream",
     "text": [
      "Epoch 66 Training: 100%|██████████| 205/205 [00:49<00:00,  4.14it/s]\n",
      "Epoch 66 Validation: 100%|██████████| 12/12 [00:01<00:00,  7.43it/s]\n"
     ]
    },
    {
     "name": "stdout",
     "output_type": "stream",
     "text": [
      "Epoch 66, Train Loss: 0.0155, Val MAAE: 25.5033\n",
      "No improvement for 4 epochs...\n"
     ]
    },
    {
     "name": "stderr",
     "output_type": "stream",
     "text": [
      "Epoch 67 Training: 100%|██████████| 205/205 [00:48<00:00,  4.20it/s]\n",
      "Epoch 67 Validation: 100%|██████████| 12/12 [00:01<00:00,  7.34it/s]\n"
     ]
    },
    {
     "name": "stdout",
     "output_type": "stream",
     "text": [
      "Epoch 67, Train Loss: 0.0151, Val MAAE: 24.8031\n",
      "No improvement for 5 epochs...\n"
     ]
    },
    {
     "name": "stderr",
     "output_type": "stream",
     "text": [
      "Epoch 68 Training: 100%|██████████| 205/205 [00:48<00:00,  4.26it/s]\n",
      "Epoch 68 Validation: 100%|██████████| 12/12 [00:01<00:00,  7.42it/s]\n"
     ]
    },
    {
     "name": "stdout",
     "output_type": "stream",
     "text": [
      "Epoch 68, Train Loss: 0.0150, Val MAAE: 24.7419\n",
      "No improvement for 6 epochs...\n"
     ]
    },
    {
     "name": "stderr",
     "output_type": "stream",
     "text": [
      "Epoch 69 Training: 100%|██████████| 205/205 [00:48<00:00,  4.21it/s]\n",
      "Epoch 69 Validation: 100%|██████████| 12/12 [00:01<00:00,  7.41it/s]\n"
     ]
    },
    {
     "name": "stdout",
     "output_type": "stream",
     "text": [
      "Epoch 69, Train Loss: 0.0148, Val MAAE: 24.3993\n",
      "✅ Best model saved with Val MAAE: 24.3993\n"
     ]
    },
    {
     "name": "stderr",
     "output_type": "stream",
     "text": [
      "Epoch 70 Training: 100%|██████████| 205/205 [00:48<00:00,  4.22it/s]\n",
      "Epoch 70 Validation: 100%|██████████| 12/12 [00:01<00:00,  7.70it/s]\n"
     ]
    },
    {
     "name": "stdout",
     "output_type": "stream",
     "text": [
      "Epoch 70, Train Loss: 0.0150, Val MAAE: 25.2221\n",
      "No improvement for 1 epochs...\n"
     ]
    },
    {
     "name": "stderr",
     "output_type": "stream",
     "text": [
      "Epoch 71 Training: 100%|██████████| 205/205 [00:47<00:00,  4.31it/s]\n",
      "Epoch 71 Validation: 100%|██████████| 12/12 [00:01<00:00,  7.18it/s]\n"
     ]
    },
    {
     "name": "stdout",
     "output_type": "stream",
     "text": [
      "Epoch 71, Train Loss: 0.0146, Val MAAE: 25.1647\n",
      "No improvement for 2 epochs...\n"
     ]
    },
    {
     "name": "stderr",
     "output_type": "stream",
     "text": [
      "Epoch 72 Training: 100%|██████████| 205/205 [00:48<00:00,  4.27it/s]\n",
      "Epoch 72 Validation: 100%|██████████| 12/12 [00:01<00:00,  7.32it/s]\n"
     ]
    },
    {
     "name": "stdout",
     "output_type": "stream",
     "text": [
      "Epoch 72, Train Loss: 0.0136, Val MAAE: 25.0060\n",
      "No improvement for 3 epochs...\n"
     ]
    },
    {
     "name": "stderr",
     "output_type": "stream",
     "text": [
      "Epoch 73 Training: 100%|██████████| 205/205 [00:47<00:00,  4.29it/s]\n",
      "Epoch 73 Validation: 100%|██████████| 12/12 [00:01<00:00,  6.00it/s]\n"
     ]
    },
    {
     "name": "stdout",
     "output_type": "stream",
     "text": [
      "Epoch 73, Train Loss: 0.0138, Val MAAE: 24.7290\n",
      "No improvement for 4 epochs...\n"
     ]
    },
    {
     "name": "stderr",
     "output_type": "stream",
     "text": [
      "Epoch 74 Training: 100%|██████████| 205/205 [00:47<00:00,  4.27it/s]\n",
      "Epoch 74 Validation: 100%|██████████| 12/12 [00:01<00:00,  7.37it/s]\n"
     ]
    },
    {
     "name": "stdout",
     "output_type": "stream",
     "text": [
      "Epoch 74, Train Loss: 0.0141, Val MAAE: 24.9089\n",
      "No improvement for 5 epochs...\n"
     ]
    },
    {
     "name": "stderr",
     "output_type": "stream",
     "text": [
      "Epoch 75 Training: 100%|██████████| 205/205 [00:48<00:00,  4.19it/s]\n",
      "Epoch 75 Validation: 100%|██████████| 12/12 [00:01<00:00,  7.34it/s]\n"
     ]
    },
    {
     "name": "stdout",
     "output_type": "stream",
     "text": [
      "Epoch 75, Train Loss: 0.0136, Val MAAE: 25.3258\n",
      "No improvement for 6 epochs...\n"
     ]
    },
    {
     "name": "stderr",
     "output_type": "stream",
     "text": [
      "Epoch 76 Training: 100%|██████████| 205/205 [00:48<00:00,  4.24it/s]\n",
      "Epoch 76 Validation: 100%|██████████| 12/12 [00:01<00:00,  7.38it/s]\n"
     ]
    },
    {
     "name": "stdout",
     "output_type": "stream",
     "text": [
      "Epoch 76, Train Loss: 0.0136, Val MAAE: 24.9317\n",
      "No improvement for 7 epochs...\n"
     ]
    },
    {
     "name": "stderr",
     "output_type": "stream",
     "text": [
      "Epoch 77 Training: 100%|██████████| 205/205 [00:48<00:00,  4.23it/s]\n",
      "Epoch 77 Validation: 100%|██████████| 12/12 [00:01<00:00,  7.40it/s]\n"
     ]
    },
    {
     "name": "stdout",
     "output_type": "stream",
     "text": [
      "Epoch 77, Train Loss: 0.0143, Val MAAE: 25.1356\n",
      "No improvement for 8 epochs...\n"
     ]
    },
    {
     "name": "stderr",
     "output_type": "stream",
     "text": [
      "Epoch 78 Training: 100%|██████████| 205/205 [00:48<00:00,  4.22it/s]\n",
      "Epoch 78 Validation: 100%|██████████| 12/12 [00:01<00:00,  7.09it/s]\n"
     ]
    },
    {
     "name": "stdout",
     "output_type": "stream",
     "text": [
      "Epoch 78, Train Loss: 0.0136, Val MAAE: 25.1120\n",
      "No improvement for 9 epochs...\n"
     ]
    },
    {
     "name": "stderr",
     "output_type": "stream",
     "text": [
      "Epoch 79 Training: 100%|██████████| 205/205 [00:48<00:00,  4.19it/s]\n",
      "Epoch 79 Validation: 100%|██████████| 12/12 [00:01<00:00,  7.40it/s]\n"
     ]
    },
    {
     "name": "stdout",
     "output_type": "stream",
     "text": [
      "Epoch 79, Train Loss: 0.0136, Val MAAE: 24.9037\n",
      "No improvement for 10 epochs...\n"
     ]
    },
    {
     "name": "stderr",
     "output_type": "stream",
     "text": [
      "Epoch 80 Training: 100%|██████████| 205/205 [00:47<00:00,  4.28it/s]\n",
      "Epoch 80 Validation: 100%|██████████| 12/12 [00:01<00:00,  6.85it/s]\n",
      "/tmp/ipykernel_19/492793214.py:418: FutureWarning: You are using `torch.load` with `weights_only=False` (the current default value), which uses the default pickle module implicitly. It is possible to construct malicious pickle data which will execute arbitrary code during unpickling (See https://github.com/pytorch/pytorch/blob/main/SECURITY.md#untrusted-models for more details). In a future release, the default value for `weights_only` will be flipped to `True`. This limits the functions that could be executed during unpickling. Arbitrary objects will no longer be allowed to be loaded via this mode unless they are explicitly allowlisted by the user via `torch.serialization.add_safe_globals`. We recommend you start setting `weights_only=True` for any use case where you don't have full control of the loaded file. Please open an issue on GitHub for any issues related to this experimental feature.\n",
      "  model.load_state_dict(torch.load('best_model.pth'))\n"
     ]
    },
    {
     "name": "stdout",
     "output_type": "stream",
     "text": [
      "Epoch 80, Train Loss: 0.0134, Val MAAE: 24.7358\n",
      "No improvement for 11 epochs...\n"
     ]
    },
    {
     "name": "stderr",
     "output_type": "stream",
     "text": [
      "Generating predictions: 100%|██████████| 12/12 [00:01<00:00,  7.73it/s]"
     ]
    },
    {
     "name": "stdout",
     "output_type": "stream",
     "text": [
      "Final Mean Absolute Angular Error on validation set: 24.3993\n"
     ]
    },
    {
     "name": "stderr",
     "output_type": "stream",
     "text": [
      "\n"
     ]
    }
   ],
   "source": [
    "import os\n",
    "import pandas as pd\n",
    "import numpy as np\n",
    "from PIL import Image\n",
    "\n",
    "import torch\n",
    "import torch.nn as nn\n",
    "import torch.nn.functional as F\n",
    "from torch.utils.data import Dataset, DataLoader\n",
    "import torchvision.transforms as transforms\n",
    "import torchvision.models as models\n",
    "from sklearn.preprocessing import LabelEncoder\n",
    "from sklearn.model_selection import KFold\n",
    "from tqdm import tqdm\n",
    "\n",
    "# --- Fixed Dataset class with weighted sampling ---\n",
    "class AngleDataset(Dataset):\n",
    "    def __init__(self, df, img_dir, transform=None, is_training=False):\n",
    "        self.df = df.copy()\n",
    "        self.img_dir = img_dir\n",
    "        self.transform = transform\n",
    "        self.is_training = is_training\n",
    "\n",
    "        # Ensure angles are within [0, 360)\n",
    "        self.df['angle'] = self.df['angle'] % 360\n",
    "        \n",
    "        # Calculate weights for sampling (for handling class imbalance if any)\n",
    "        if is_training:\n",
    "            angle_bins = np.linspace(0, 360, 37)  # 36 bins of 10 degrees each\n",
    "            self.df['angle_bin'] = pd.cut(self.df['angle'], bins=angle_bins, labels=False)\n",
    "            \n",
    "            # Fix: Handle NaN values in angle_bin\n",
    "            self.df['angle_bin'] = self.df['angle_bin'].fillna(0).astype(int)\n",
    "            \n",
    "            bin_counts = self.df['angle_bin'].value_counts().sort_index()\n",
    "            \n",
    "            # Fix: Make sure all bin indices are in the bin_counts\n",
    "            all_bins = np.arange(len(angle_bins)-1)\n",
    "            for bin_idx in all_bins:\n",
    "                if bin_idx not in bin_counts.index:\n",
    "                    bin_counts[bin_idx] = 1  # Add a small count to avoid division by zero\n",
    "            \n",
    "            bin_counts = bin_counts.sort_index()\n",
    "            self.weights = 1.0 / bin_counts[self.df['angle_bin'].values].values\n",
    "            self.weights = torch.FloatTensor(self.weights)\n",
    "        else:\n",
    "            self.weights = None\n",
    "\n",
    "    def __len__(self):\n",
    "        return len(self.df)\n",
    "\n",
    "    def __getitem__(self, idx):\n",
    "        row = self.df.iloc[idx]\n",
    "        img_path = os.path.join(self.img_dir, row['filename'])\n",
    "        image = Image.open(img_path).convert('RGB')\n",
    "\n",
    "        if self.transform:\n",
    "            image = self.transform(image)\n",
    "\n",
    "        angle = row['angle']\n",
    "        # Convert angle to radians\n",
    "        angle_rad = angle * np.pi / 180\n",
    "        # Create target vector [sin(θ), cos(θ)]\n",
    "        sin_angle = np.sin(angle_rad)\n",
    "        cos_angle = np.cos(angle_rad)\n",
    "        \n",
    "        # Add region_encoded to the return\n",
    "        region = torch.tensor(row['region_encoded'], dtype=torch.long)\n",
    "        \n",
    "        return image, torch.tensor([sin_angle, cos_angle], dtype=torch.float32), torch.tensor(angle, dtype=torch.float32), region\n",
    "\n",
    "# --- Advanced angular error metrics ---\n",
    "def mean_absolute_angular_error(y_true, y_pred):\n",
    "    diff = torch.abs(y_true - y_pred)\n",
    "    return torch.mean(torch.min(diff, 360 - diff))\n",
    "\n",
    "def angular_rmse(y_true, y_pred):\n",
    "    diff = torch.abs(y_true - y_pred)\n",
    "    min_diff = torch.min(diff, 360 - diff)\n",
    "    return torch.sqrt(torch.mean(min_diff ** 2))\n",
    "\n",
    "# --- Improved Angular loss functions ---\n",
    "def angular_vector_loss(pred, true_angle):\n",
    "    # Convert true angle to radians\n",
    "    true_rad = true_angle * np.pi / 180\n",
    "    # Create true vector [sin(θ), cos(θ)]\n",
    "    true_vec = torch.stack([torch.sin(true_rad), torch.cos(true_rad)], dim=1)\n",
    "    # Normalize prediction vector\n",
    "    pred = F.normalize(pred, dim=1)\n",
    "    # Compute loss as 1 - dot product\n",
    "    loss = torch.mean(1 - torch.sum(pred * true_vec, dim=1))\n",
    "    return loss\n",
    "\n",
    "def combined_angular_loss(pred, true_angle, alpha=0.8):\n",
    "    # Vector loss\n",
    "    vec_loss = angular_vector_loss(pred, true_angle)\n",
    "    \n",
    "    # Convert predictions back to angles for direct angle loss\n",
    "    pred = F.normalize(pred, dim=1)\n",
    "    pred_angle = (torch.atan2(pred[:, 0], pred[:, 1]) * 180 / np.pi) % 360\n",
    "    \n",
    "    # Direct angle loss using minimum distance accounting for circularity\n",
    "    diff = torch.abs(pred_angle - true_angle)\n",
    "    min_diff = torch.min(diff, 360 - diff)\n",
    "    direct_loss = torch.mean(min_diff)\n",
    "    \n",
    "    # Combined loss\n",
    "    return alpha * vec_loss + (1 - alpha) * direct_loss / 180.0\n",
    "\n",
    "# --- Improved Model Architecture ---\n",
    "class ImprovedAngleModel(nn.Module):\n",
    "    def __init__(self, num_regions, backbone_name='efficientnet_b0'):\n",
    "        super(ImprovedAngleModel, self).__init__()\n",
    "        \n",
    "        # Choose backbone based on parameter\n",
    "        if backbone_name == 'resnet50':\n",
    "            self.backbone = models.resnet50(pretrained=True)\n",
    "            self.backbone.fc = nn.Identity()  # Remove final FC layer\n",
    "            self.feature_dim = 2048\n",
    "        elif backbone_name == 'efficientnet_b0':\n",
    "            self.backbone = models.efficientnet_b0(pretrained=True)\n",
    "            self.backbone.classifier = nn.Identity()  # Remove classifier\n",
    "            self.feature_dim = 1280\n",
    "        elif backbone_name == 'convnext_small':\n",
    "            self.backbone = models.convnext_small(pretrained=True)\n",
    "            self.backbone.classifier[2] = nn.Identity()  # Remove classifier\n",
    "            self.feature_dim = 768\n",
    "        else:  # Default to ResNet18\n",
    "            self.backbone = models.resnet18(pretrained=True)\n",
    "            self.backbone.fc = nn.Identity()  # Remove final FC layer\n",
    "            self.feature_dim = 512\n",
    "        \n",
    "        # Region embedding\n",
    "        self.region_embedding = nn.Embedding(num_regions, 128)\n",
    "        \n",
    "        # Attention mechanism for feature fusion\n",
    "        self.attention = nn.Sequential(\n",
    "            nn.Linear(self.feature_dim + 128, 256),\n",
    "            nn.ReLU(),\n",
    "            nn.Linear(256, 1)\n",
    "        )\n",
    "        \n",
    "        # Final layers with multiple branches\n",
    "        self.shared_fc = nn.Sequential(\n",
    "            nn.Linear(self.feature_dim + 128, 512),\n",
    "            nn.BatchNorm1d(512),\n",
    "            nn.ReLU(),\n",
    "            nn.Dropout(0.3)\n",
    "        )\n",
    "        \n",
    "        self.angle_fc = nn.Sequential(\n",
    "            nn.Linear(512, 256),\n",
    "            nn.BatchNorm1d(256),\n",
    "            nn.ReLU(),\n",
    "            nn.Dropout(0.2),\n",
    "            nn.Linear(256, 2)  # Output sin(θ), cos(θ)\n",
    "        )\n",
    "    \n",
    "    def forward(self, x, regions):\n",
    "        # Extract image features\n",
    "        img_features = self.backbone(x)\n",
    "        \n",
    "        # Get region embeddings\n",
    "        region_features = self.region_embedding(regions)\n",
    "        \n",
    "        # Concatenate features\n",
    "        combined_features = torch.cat([img_features, region_features], dim=1)\n",
    "        \n",
    "        # Apply attention mechanism\n",
    "        attention_weights = torch.sigmoid(self.attention(combined_features))\n",
    "        attended_features = combined_features * attention_weights\n",
    "        \n",
    "        # Shared layers\n",
    "        shared_features = self.shared_fc(attended_features)\n",
    "        \n",
    "        # Angle prediction branch\n",
    "        angle_out = self.angle_fc(shared_features)\n",
    "        \n",
    "        return angle_out\n",
    "\n",
    "# --- Modified transforms without rotation, flip, or noise augmentation ---\n",
    "def get_transforms(img_size=256, crop_size=224):\n",
    "    # Training transforms with limited augmentation (no rotation, flip, or noise)\n",
    "    train_transform = transforms.Compose([\n",
    "        transforms.Resize((256, 256)),\n",
    "        transforms.ColorJitter(brightness=0.1, contrast=0.1, saturation=0.1, hue=0.05),\n",
    "        transforms.RandomResizedCrop(224, scale=(0.9, 1.0)),\n",
    "        transforms.GaussianBlur(3),\n",
    "        transforms.ToTensor(),\n",
    "        transforms.Normalize(mean=[0.485, 0.456, 0.406], std=[0.229, 0.224, 0.225]),\n",
    "        transforms.RandomErasing(p=0.5, scale=(0.02, 0.05), ratio=(0.3, 3.3)),\n",
    "    ])\n",
    "    \n",
    "    # Validation transforms\n",
    "    val_transform = transforms.Compose([\n",
    "        transforms.Resize((img_size, img_size)),\n",
    "        transforms.CenterCrop(crop_size),\n",
    "        transforms.ToTensor(),\n",
    "        transforms.Normalize(mean=[0.485, 0.456, 0.406], std=[0.229, 0.224, 0.225])\n",
    "    ])\n",
    "    \n",
    "    return train_transform, val_transform\n",
    "\n",
    "# --- Setup paths ---\n",
    "dataset_folder = '/kaggle/input/smai-project/'\n",
    "train_csv_path = dataset_folder + 'labels_train.csv'\n",
    "val_csv_path = dataset_folder + 'labels_val.csv'\n",
    "train_img_dir = dataset_folder + 'images_train/images_train'\n",
    "val_img_dir = dataset_folder + 'images_val/images_val'\n",
    "\n",
    "# Path for predicted regions\n",
    "regions_path = '/kaggle/input/predicted-regions/predicted_regions/'\n",
    "train_regions_path = regions_path + 'predicted_regions_train.csv'\n",
    "val_regions_path = regions_path + 'predicted_regions_val.csv'\n",
    "\n",
    "# --- Load CSVs ---\n",
    "train_df = pd.read_csv(train_csv_path)\n",
    "val_df = pd.read_csv(val_csv_path)\n",
    "\n",
    "# Load region predictions\n",
    "predicted_region_train_df = pd.read_csv(train_regions_path)\n",
    "predicted_region_val_df = pd.read_csv(val_regions_path)\n",
    "\n",
    "# Drop original Region_ID if it exists\n",
    "if 'Region_ID' in train_df.columns:\n",
    "    train_df = train_df.drop('Region_ID', axis=1)\n",
    "if 'Region_ID' in val_df.columns:\n",
    "    val_df = val_df.drop('Region_ID', axis=1)\n",
    "\n",
    "# Merge train data with predicted regions\n",
    "train_df = pd.merge(train_df, predicted_region_train_df[['filename', 'Region_ID']], \n",
    "                   on='filename', how='inner')\n",
    "\n",
    "# Merge validation data with predicted regions\n",
    "val_df = pd.merge(val_df, predicted_region_val_df[['filename', 'Region_ID']], \n",
    "                 on='filename', how='inner')\n",
    "\n",
    "# Encode regions\n",
    "region_encoder = LabelEncoder()\n",
    "train_df['region_encoded'] = region_encoder.fit_transform(train_df['Region_ID'])\n",
    "val_df['region_encoded'] = region_encoder.transform(val_df['Region_ID'])\n",
    "\n",
    "# Get number of unique regions\n",
    "NUM_REGIONS = len(region_encoder.classes_)\n",
    "print(f\"Number of unique regions: {NUM_REGIONS}\")\n",
    "\n",
    "# --- Model training function ---\n",
    "def train_and_validate(model, train_loader, val_loader, optimizer, scheduler, num_epochs, device, patience=15):\n",
    "    best_val_error = float('inf')\n",
    "    patience_counter = 0\n",
    "    history = {'train_loss': [], 'val_maae': []}\n",
    "    \n",
    "    for epoch in range(num_epochs):\n",
    "        model.train()\n",
    "        train_loss = 0\n",
    "        \n",
    "        for images, angle_vectors, angles, regions in tqdm(train_loader, desc=f'Epoch {epoch+1} Training'):\n",
    "            images = images.to(device)\n",
    "            angle_vectors = angle_vectors.to(device)\n",
    "            angles = angles.to(device)\n",
    "            regions = regions.to(device)\n",
    "            \n",
    "            optimizer.zero_grad()\n",
    "            outputs = model(images, regions)\n",
    "            loss = combined_angular_loss(outputs, angles, alpha=0.7)\n",
    "            loss.backward()\n",
    "            \n",
    "            # Gradient clipping to prevent exploding gradients\n",
    "            torch.nn.utils.clip_grad_norm_(model.parameters(), max_norm=1.0)\n",
    "            \n",
    "            optimizer.step()\n",
    "            \n",
    "            if scheduler is not None:\n",
    "                scheduler.step()  # Step the scheduler each batch\n",
    "            \n",
    "            train_loss += loss.item() * images.size(0)\n",
    "        \n",
    "        avg_train_loss = train_loss / len(train_loader.dataset)\n",
    "        history['train_loss'].append(avg_train_loss)\n",
    "        \n",
    "        # --- Validation ---\n",
    "        model.eval()\n",
    "        true_angles = []\n",
    "        pred_angles = []\n",
    "        \n",
    "        with torch.no_grad():\n",
    "            for images, angle_vectors, angles, regions in tqdm(val_loader, desc=f'Epoch {epoch+1} Validation'):\n",
    "                images = images.to(device)\n",
    "                angles = angles.to(device)\n",
    "                regions = regions.to(device)\n",
    "                \n",
    "                outputs = model(images, regions)\n",
    "                outputs = F.normalize(outputs, dim=1)\n",
    "                \n",
    "                # Convert sin(θ), cos(θ) predictions back to angles\n",
    "                sin_preds = outputs[:, 0]\n",
    "                cos_preds = outputs[:, 1]\n",
    "                angle_preds = (torch.atan2(sin_preds, cos_preds) * 180 / np.pi) % 360\n",
    "                \n",
    "                true_angles.append(angles.cpu())\n",
    "                pred_angles.append(angle_preds.cpu())\n",
    "        \n",
    "        true_all = torch.cat(true_angles)\n",
    "        preds_all = torch.cat(pred_angles)\n",
    "        val_error = mean_absolute_angular_error(true_all, preds_all).item()\n",
    "        history['val_maae'].append(val_error)\n",
    "        \n",
    "        print(f'Epoch {epoch+1}, Train Loss: {avg_train_loss:.4f}, Val MAAE: {val_error:.4f}')\n",
    "        \n",
    "        # Save best model\n",
    "        if val_error < best_val_error:\n",
    "            best_val_error = val_error\n",
    "            torch.save(model.state_dict(), 'best_model.pth')\n",
    "            print(f'✅ Best model saved with Val MAAE: {best_val_error:.4f}')\n",
    "            patience_counter = 0\n",
    "        else:\n",
    "            patience_counter += 1\n",
    "            print(f'No improvement for {patience_counter} epochs...')\n",
    "        \n",
    "        # Early stopping\n",
    "        if patience_counter >= patience:\n",
    "            print(f'Early stopping triggered after {epoch+1} epochs')\n",
    "            break\n",
    "    \n",
    "    return history, best_val_error\n",
    "\n",
    "# --- Main training code ---\n",
    "def main():\n",
    "    # Set seeds for reproducibility\n",
    "    torch.manual_seed(42)\n",
    "    np.random.seed(42)\n",
    "    torch.backends.cudnn.deterministic = True\n",
    "    torch.backends.cudnn.benchmark = False\n",
    "    \n",
    "    # Set device\n",
    "    device = torch.device('cuda' if torch.cuda.is_available() else 'cpu')\n",
    "    print(f'Using device: {device}')\n",
    "    \n",
    "    # Get transforms\n",
    "    train_transform, val_transform = get_transforms(img_size=288, crop_size=256)\n",
    "    \n",
    "    # Create datasets\n",
    "    train_dataset = AngleDataset(train_df, train_img_dir, train_transform, is_training=True)\n",
    "    val_dataset = AngleDataset(val_df, val_img_dir, val_transform)\n",
    "    \n",
    "    # Create weighted sampler for training to balance angle distribution\n",
    "    try:\n",
    "        sampler = torch.utils.data.WeightedRandomSampler(\n",
    "            weights=train_dataset.weights,\n",
    "            num_samples=len(train_dataset),\n",
    "            replacement=True\n",
    "        )\n",
    "        \n",
    "        # Create dataloaders with sampler\n",
    "        train_loader = DataLoader(\n",
    "            train_dataset, \n",
    "            batch_size=32, \n",
    "            sampler=sampler,\n",
    "            num_workers=4,\n",
    "            pin_memory=True\n",
    "        )\n",
    "    except Exception as e:\n",
    "        print(f\"Error creating weighted sampler: {e}\")\n",
    "        print(\"Falling back to regular DataLoader without weighted sampling\")\n",
    "        \n",
    "        # Create regular dataloader without sampler\n",
    "        train_loader = DataLoader(\n",
    "            train_dataset, \n",
    "            batch_size=32, \n",
    "            shuffle=True,\n",
    "            num_workers=4,\n",
    "            pin_memory=True\n",
    "        )\n",
    "    \n",
    "    val_loader = DataLoader(\n",
    "        val_dataset, \n",
    "        batch_size=32, \n",
    "        shuffle=False,\n",
    "        num_workers=4,\n",
    "        pin_memory=True\n",
    "    )\n",
    "    \n",
    "    # Initialize model\n",
    "    backbone_name = 'efficientnet_b0'  # Try different backbones\n",
    "    model = ImprovedAngleModel(NUM_REGIONS, backbone_name=backbone_name).to(device)\n",
    "    \n",
    "    # Use AdamW optimizer with weight decay\n",
    "    optimizer = torch.optim.AdamW(model.parameters(), lr=1e-4, weight_decay=1e-5)\n",
    "    \n",
    "    # Learning rate scheduler\n",
    "    num_epochs = 80\n",
    "    steps_per_epoch = len(train_loader)\n",
    "    \n",
    "    scheduler = torch.optim.lr_scheduler.OneCycleLR(\n",
    "        optimizer,\n",
    "        max_lr=5e-4,\n",
    "        epochs=num_epochs,\n",
    "        steps_per_epoch=steps_per_epoch,\n",
    "        pct_start=0.1,\n",
    "        anneal_strategy='cos',\n",
    "        div_factor=25.0,\n",
    "        final_div_factor=1e4\n",
    "    )\n",
    "    \n",
    "    # Train model\n",
    "    history, best_maae = train_and_validate(\n",
    "        model=model,\n",
    "        train_loader=train_loader,\n",
    "        val_loader=val_loader,\n",
    "        optimizer=optimizer,\n",
    "        scheduler=scheduler,\n",
    "        num_epochs=num_epochs,\n",
    "        device=device,\n",
    "        patience=15\n",
    "    )\n",
    "    \n",
    "    # Load best model for final evaluation\n",
    "    model.load_state_dict(torch.load('best_model.pth'))\n",
    "    model.eval()\n",
    "    \n",
    "    # Get predictions and true values for final evaluation\n",
    "    filenames = []\n",
    "    true_angles = []\n",
    "    predictions = []\n",
    "    \n",
    "    with torch.no_grad():\n",
    "        for i, (images, angle_vectors, angles, regions) in enumerate(tqdm(val_loader, desc='Generating predictions')):\n",
    "            images = images.to(device)\n",
    "            regions = regions.to(device)\n",
    "            \n",
    "            outputs = model(images, regions)\n",
    "            outputs = F.normalize(outputs, dim=1)\n",
    "            \n",
    "            # Convert sin(θ), cos(θ) predictions back to angles\n",
    "            sin_preds = outputs[:, 0]\n",
    "            cos_preds = outputs[:, 1]\n",
    "            angle_preds = (torch.atan2(sin_preds, cos_preds) * 180 / np.pi) % 360\n",
    "            \n",
    "            # Extract batch filenames\n",
    "            batch_indices = range(i * val_loader.batch_size, \n",
    "                              min((i + 1) * val_loader.batch_size, len(val_dataset)))\n",
    "            batch_filenames = [val_df.iloc[j]['filename'] for j in batch_indices]\n",
    "            filenames.extend(batch_filenames[:len(angles)])  # Match length to actual batch\n",
    "            \n",
    "            true_angles.extend(angles.cpu().numpy())\n",
    "            predictions.extend(angle_preds.cpu().numpy())\n",
    "    \n",
    "    # Calculate final MAAE\n",
    "    final_maae = np.mean(np.minimum(np.abs(np.array(predictions) - np.array(true_angles)), \n",
    "                                 360 - np.abs(np.array(predictions) - np.array(true_angles))))\n",
    "    print(f'Final Mean Absolute Angular Error on validation set: {final_maae:.4f}')\n",
    "    \n",
    "    # Save predictions to CSV\n",
    "    results_df = pd.DataFrame({\n",
    "        'filename': filenames[:len(true_angles)],  # Ensure same length\n",
    "        'true_angle': true_angles,\n",
    "        'predicted_angle': predictions\n",
    "    })\n",
    "    results_df.to_csv('angle_predictions.csv', index=False)\n",
    "\n",
    "if __name__ == \"__main__\":\n",
    "    main()"
   ]
  },
  {
   "cell_type": "code",
   "execution_count": null,
   "id": "9b4684a6",
   "metadata": {
    "papermill": {
     "duration": 0.739633,
     "end_time": "2025-05-03T15:20:38.228048",
     "exception": false,
     "start_time": "2025-05-03T15:20:37.488415",
     "status": "completed"
    },
    "tags": []
   },
   "outputs": [],
   "source": []
  }
 ],
 "metadata": {
  "kaggle": {
   "accelerator": "nvidiaTeslaT4",
   "dataSources": [
    {
     "datasetId": 7303603,
     "sourceId": 11639740,
     "sourceType": "datasetVersion"
    },
    {
     "datasetId": 7317666,
     "sourceId": 11660562,
     "sourceType": "datasetVersion"
    }
   ],
   "dockerImageVersionId": 31011,
   "isGpuEnabled": true,
   "isInternetEnabled": true,
   "language": "python",
   "sourceType": "notebook"
  },
  "kernelspec": {
   "display_name": "Python 3",
   "language": "python",
   "name": "python3"
  },
  "language_info": {
   "codemirror_mode": {
    "name": "ipython",
    "version": 3
   },
   "file_extension": ".py",
   "mimetype": "text/x-python",
   "name": "python",
   "nbconvert_exporter": "python",
   "pygments_lexer": "ipython3",
   "version": "3.13.2 (main, Feb  4 2025, 14:51:09) [Clang 16.0.0 (clang-1600.0.26.6)]"
  },
  "papermill": {
   "default_parameters": {},
   "duration": 4033.757902,
   "end_time": "2025-05-03T15:20:42.118344",
   "environment_variables": {},
   "exception": null,
   "input_path": "__notebook__.ipynb",
   "output_path": "__notebook__.ipynb",
   "parameters": {},
   "start_time": "2025-05-03T14:13:28.360442",
   "version": "2.6.0"
  },
  "vscode": {
   "interpreter": {
    "hash": "aee8b7b246df8f9039afb4144a1f6fd8d2ca17a180786b69acc140d282b71a49"
   }
  }
 },
 "nbformat": 4,
 "nbformat_minor": 5
}
